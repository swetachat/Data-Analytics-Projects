{
 "cells": [
  {
   "cell_type": "code",
   "execution_count": 11,
   "metadata": {
    "collapsed": true
   },
   "outputs": [],
   "source": [
    "import time\n",
    "from bs4 import BeautifulSoup\n",
    "import urllib.request\n",
    "import requests\n",
    "from sklearn.feature_extraction.text import TfidfVectorizer\n",
    "import nltk\n",
    "import re\n",
    "from nltk.stem.snowball import SnowballStemmer\n",
    "#!pip install BeautifulSoup4"
   ]
  },
  {
   "cell_type": "code",
   "execution_count": 12,
   "metadata": {
    "collapsed": true
   },
   "outputs": [],
   "source": [
    "# Create ReviewList for 20 different hotel using Yelp\n",
    "\n",
    "def buildSynopses(hotelNameList):\n",
    "    reviewList = []    \n",
    "    prefix = \"https://www.yelp.com/biz/\"\n",
    "        \n",
    "    # Headers will make it look like you are using a web browser\n",
    "    headers = {'User-Agent': 'Mozilla/5.0 (X11; Linux x86_64) AppleWebKit/537.36 (KHTML, like Gecko) Chrome/42.0.2311.90 Safari/537.34'}\n",
    "        \n",
    "    for hotelName in hotelNameList:\n",
    "        reviews =[]\n",
    "        url = prefix + hotelName  \n",
    "        response = requests.get(url, headers=headers, verify=False).text\n",
    "        \n",
    "        # Create a soup object and find all 20 reviews\n",
    "        soup = BeautifulSoup(response, \"lxml\")\n",
    "        reviews = soup.find_all('p', attrs={'lang':'en'})\n",
    "              \n",
    "        # Concatenate all the 20 reviews into a string and put it in a list\n",
    "        reviewList.append(' '.join(str(i.text) for i in reviews))   \n",
    "               \n",
    "    print(\"Synopses Created\")        \n",
    "    \n",
    "    return reviewList"
   ]
  },
  {
   "cell_type": "code",
   "execution_count": 13,
   "metadata": {
    "collapsed": true,
    "scrolled": true
   },
   "outputs": [],
   "source": [
    "#creating hotelnamelist to retrieve hotel review\n",
    "\n",
    "titles = []\n",
    "hotelNameList = []\n",
    "\n",
    "# Building list 20 different restaurants with name and loc offering at least 4 different cuisines\n",
    "#--Italian\n",
    "hotelNameList.append(\"solaris-restaurant-hackensack\")\n",
    "hotelNameList.append(\"la-couronne-restaurant-montclair\")\n",
    "hotelNameList.append(\"tutta-pesca-hoboken\")\n",
    "hotelNameList.append(\"maggianos-little-italy-hackensack\")\n",
    "hotelNameList.append(\"bensi-of-hasbrouck-heights-hasbrouck-heights\")\n",
    "\n",
    "#--Greek\n",
    "hotelNameList.append(\"stamna-greek-taverna-little-falls-4\")\n",
    "hotelNameList.append(\"beyond-pita-montclair\")\n",
    "hotelNameList.append(\"jackies-grillette-montclair\")\n",
    "hotelNameList.append(\"main-street-taverna-belleville\")\n",
    "hotelNameList.append(\"greek-taverna-montclair-4\")\n",
    "\n",
    "#--American\n",
    "hotelNameList.append(\"laboratorio-kitchen-montclair-5\")\n",
    "hotelNameList.append(\"de-novo-european-pub-montclair\")\n",
    "hotelNameList.append(\"broughton-grill-montclair\")\n",
    "hotelNameList.append(\"uptown-596-montclair\")\n",
    "hotelNameList.append(\"pig-and-prince-montclair-4\")\n",
    "\n",
    "#--Chinese\n",
    "hotelNameList.append(\"wahchung-chinese-restaurant-montclair\")\n",
    "hotelNameList.append(\"tasty-fusion-lyndhurst-2\")\n",
    "hotelNameList.append(\"pandan-asian-cuisine-and-delicacies-bloomfield\")\n",
    "hotelNameList.append(\"veggie-heaven-montclair\")\n",
    "hotelNameList.append(\"lucky-star-bloomfield\")\n",
    "\n",
    "\n",
    "# Create titles as 'cuisine:Restaurants name' for dendrogram\n",
    "titles.append(\"Italian:Solaris-Restaurant\")\n",
    "titles.append(\"Italian:La-Couronne-Restaurant\")\n",
    "titles.append(\"Italian:Tutta-Resca\")\n",
    "titles.append(\"Italian:Maggianos-Little-Italy\")\n",
    "titles.append(\"Italian:Bensi-of-Hasbrouck-Heights\")\n",
    "\n",
    "titles.append(\"Greek:Btamna-Greek-Taverna\")\n",
    "titles.append(\"Greek:Beyond-Pita\")\n",
    "titles.append(\"Greek:Jackies-Grillette\")\n",
    "titles.append(\"Greek:Main-Street-Taverna\")\n",
    "titles.append(\"Greek:Greek-Taverna\")\n",
    "\n",
    "titles.append(\"American:Laboratorio-Kitchen\")\n",
    "titles.append(\"American:De-Novo-European-Pub\")\n",
    "titles.append(\"American:Broughton-Grill\")\n",
    "titles.append(\"American:Uptown-596\")\n",
    "titles.append(\"American:Pig-and-Prince\")\n",
    "\n",
    "titles.append(\"Chinese:Wahchung-Chinese-Restaurant\")\n",
    "titles.append(\"Chinese:Tasty-Fusion\")\n",
    "titles.append(\"Chinese:Pandan-Asian-Cuisine-&-Delicacies\")\n",
    "titles.append(\"Chinese:Veggie-Heaven\")\n",
    "titles.append(\"Chinese:Lucky-Star\")\n"
   ]
  },
  {
   "cell_type": "code",
   "execution_count": 16,
   "metadata": {
    "collapsed": true
   },
   "outputs": [],
   "source": [
    "def tokenize_and_stem(text):\n",
    "    \n",
    "    stemmer = SnowballStemmer(\"english\")\n",
    "    # first tokenize by sentence, then by word to ensure that punctuation is caught as it's own token\n",
    "    tokens = [word.lower() for sent in nltk.sent_tokenize(text) for word in nltk.word_tokenize(sent)]\n",
    "    filtered_tokens = []\n",
    "    # filter out any tokens not containing letters (e.g., numeric tokens, raw punctuation)\n",
    "    for token in tokens:\n",
    "        if re.search('[a-zA-Z]', token):\n",
    "            filtered_tokens.append(token)\n",
    "    stems = [stemmer.stem(t) for t in filtered_tokens]\n",
    "    return stems"
   ]
  },
  {
   "cell_type": "code",
   "execution_count": 17,
   "metadata": {},
   "outputs": [
    {
     "name": "stderr",
     "output_type": "stream",
     "text": [
      "C:\\Users\\susha\\Anaconda3\\lib\\site-packages\\urllib3\\connectionpool.py:858: InsecureRequestWarning: Unverified HTTPS request is being made. Adding certificate verification is strongly advised. See: https://urllib3.readthedocs.io/en/latest/advanced-usage.html#ssl-warnings\n",
      "  InsecureRequestWarning)\n",
      "C:\\Users\\susha\\Anaconda3\\lib\\site-packages\\urllib3\\connectionpool.py:858: InsecureRequestWarning: Unverified HTTPS request is being made. Adding certificate verification is strongly advised. See: https://urllib3.readthedocs.io/en/latest/advanced-usage.html#ssl-warnings\n",
      "  InsecureRequestWarning)\n",
      "C:\\Users\\susha\\Anaconda3\\lib\\site-packages\\urllib3\\connectionpool.py:858: InsecureRequestWarning: Unverified HTTPS request is being made. Adding certificate verification is strongly advised. See: https://urllib3.readthedocs.io/en/latest/advanced-usage.html#ssl-warnings\n",
      "  InsecureRequestWarning)\n",
      "C:\\Users\\susha\\Anaconda3\\lib\\site-packages\\urllib3\\connectionpool.py:858: InsecureRequestWarning: Unverified HTTPS request is being made. Adding certificate verification is strongly advised. See: https://urllib3.readthedocs.io/en/latest/advanced-usage.html#ssl-warnings\n",
      "  InsecureRequestWarning)\n",
      "C:\\Users\\susha\\Anaconda3\\lib\\site-packages\\urllib3\\connectionpool.py:858: InsecureRequestWarning: Unverified HTTPS request is being made. Adding certificate verification is strongly advised. See: https://urllib3.readthedocs.io/en/latest/advanced-usage.html#ssl-warnings\n",
      "  InsecureRequestWarning)\n",
      "C:\\Users\\susha\\Anaconda3\\lib\\site-packages\\urllib3\\connectionpool.py:858: InsecureRequestWarning: Unverified HTTPS request is being made. Adding certificate verification is strongly advised. See: https://urllib3.readthedocs.io/en/latest/advanced-usage.html#ssl-warnings\n",
      "  InsecureRequestWarning)\n",
      "C:\\Users\\susha\\Anaconda3\\lib\\site-packages\\urllib3\\connectionpool.py:858: InsecureRequestWarning: Unverified HTTPS request is being made. Adding certificate verification is strongly advised. See: https://urllib3.readthedocs.io/en/latest/advanced-usage.html#ssl-warnings\n",
      "  InsecureRequestWarning)\n",
      "C:\\Users\\susha\\Anaconda3\\lib\\site-packages\\urllib3\\connectionpool.py:858: InsecureRequestWarning: Unverified HTTPS request is being made. Adding certificate verification is strongly advised. See: https://urllib3.readthedocs.io/en/latest/advanced-usage.html#ssl-warnings\n",
      "  InsecureRequestWarning)\n",
      "C:\\Users\\susha\\Anaconda3\\lib\\site-packages\\urllib3\\connectionpool.py:858: InsecureRequestWarning: Unverified HTTPS request is being made. Adding certificate verification is strongly advised. See: https://urllib3.readthedocs.io/en/latest/advanced-usage.html#ssl-warnings\n",
      "  InsecureRequestWarning)\n",
      "C:\\Users\\susha\\Anaconda3\\lib\\site-packages\\urllib3\\connectionpool.py:858: InsecureRequestWarning: Unverified HTTPS request is being made. Adding certificate verification is strongly advised. See: https://urllib3.readthedocs.io/en/latest/advanced-usage.html#ssl-warnings\n",
      "  InsecureRequestWarning)\n",
      "C:\\Users\\susha\\Anaconda3\\lib\\site-packages\\urllib3\\connectionpool.py:858: InsecureRequestWarning: Unverified HTTPS request is being made. Adding certificate verification is strongly advised. See: https://urllib3.readthedocs.io/en/latest/advanced-usage.html#ssl-warnings\n",
      "  InsecureRequestWarning)\n",
      "C:\\Users\\susha\\Anaconda3\\lib\\site-packages\\urllib3\\connectionpool.py:858: InsecureRequestWarning: Unverified HTTPS request is being made. Adding certificate verification is strongly advised. See: https://urllib3.readthedocs.io/en/latest/advanced-usage.html#ssl-warnings\n",
      "  InsecureRequestWarning)\n",
      "C:\\Users\\susha\\Anaconda3\\lib\\site-packages\\urllib3\\connectionpool.py:858: InsecureRequestWarning: Unverified HTTPS request is being made. Adding certificate verification is strongly advised. See: https://urllib3.readthedocs.io/en/latest/advanced-usage.html#ssl-warnings\n",
      "  InsecureRequestWarning)\n",
      "C:\\Users\\susha\\Anaconda3\\lib\\site-packages\\urllib3\\connectionpool.py:858: InsecureRequestWarning: Unverified HTTPS request is being made. Adding certificate verification is strongly advised. See: https://urllib3.readthedocs.io/en/latest/advanced-usage.html#ssl-warnings\n",
      "  InsecureRequestWarning)\n",
      "C:\\Users\\susha\\Anaconda3\\lib\\site-packages\\urllib3\\connectionpool.py:858: InsecureRequestWarning: Unverified HTTPS request is being made. Adding certificate verification is strongly advised. See: https://urllib3.readthedocs.io/en/latest/advanced-usage.html#ssl-warnings\n",
      "  InsecureRequestWarning)\n",
      "C:\\Users\\susha\\Anaconda3\\lib\\site-packages\\urllib3\\connectionpool.py:858: InsecureRequestWarning: Unverified HTTPS request is being made. Adding certificate verification is strongly advised. See: https://urllib3.readthedocs.io/en/latest/advanced-usage.html#ssl-warnings\n",
      "  InsecureRequestWarning)\n",
      "C:\\Users\\susha\\Anaconda3\\lib\\site-packages\\urllib3\\connectionpool.py:858: InsecureRequestWarning: Unverified HTTPS request is being made. Adding certificate verification is strongly advised. See: https://urllib3.readthedocs.io/en/latest/advanced-usage.html#ssl-warnings\n",
      "  InsecureRequestWarning)\n",
      "C:\\Users\\susha\\Anaconda3\\lib\\site-packages\\urllib3\\connectionpool.py:858: InsecureRequestWarning: Unverified HTTPS request is being made. Adding certificate verification is strongly advised. See: https://urllib3.readthedocs.io/en/latest/advanced-usage.html#ssl-warnings\n",
      "  InsecureRequestWarning)\n",
      "C:\\Users\\susha\\Anaconda3\\lib\\site-packages\\urllib3\\connectionpool.py:858: InsecureRequestWarning: Unverified HTTPS request is being made. Adding certificate verification is strongly advised. See: https://urllib3.readthedocs.io/en/latest/advanced-usage.html#ssl-warnings\n",
      "  InsecureRequestWarning)\n",
      "C:\\Users\\susha\\Anaconda3\\lib\\site-packages\\urllib3\\connectionpool.py:858: InsecureRequestWarning: Unverified HTTPS request is being made. Adding certificate verification is strongly advised. See: https://urllib3.readthedocs.io/en/latest/advanced-usage.html#ssl-warnings\n",
      "  InsecureRequestWarning)\n"
     ]
    },
    {
     "name": "stdout",
     "output_type": "stream",
     "text": [
      "Synopses Created\n",
      "Wall time: 1.7 s\n",
      "(20, 856)\n"
     ]
    }
   ],
   "source": [
    "#define vectorizer parameters\n",
    "tfidf_vectorizer = TfidfVectorizer(max_df=0.8, max_features=200000,\n",
    "                                 min_df=0.2, stop_words='english',\n",
    "                                 use_idf=True, tokenizer=tokenize_and_stem, ngram_range=(1,3))\n",
    "\n",
    "synopses = buildSynopses(hotelNameList)  # list of 20 string created\n",
    "\n",
    "%time tfidf_matrix = tfidf_vectorizer.fit_transform(synopses) #fit the vectorizer to synopses\n",
    "\n",
    "print(tfidf_matrix.shape)"
   ]
  },
  {
   "cell_type": "code",
   "execution_count": 18,
   "metadata": {
    "collapsed": true
   },
   "outputs": [],
   "source": [
    "from sklearn.metrics.pairwise import cosine_similarity\n",
    "dist = 1 - cosine_similarity(tfidf_matrix)"
   ]
  },
  {
   "cell_type": "code",
   "execution_count": 19,
   "metadata": {
    "collapsed": true
   },
   "outputs": [],
   "source": [
    "import matplotlib.pyplot as plt\n",
    "from scipy.cluster.hierarchy import ward, dendrogram\n",
    "\n",
    "linkage_matrix = ward(dist) #define the linkage_matrix using ward clustering pre-computed distances\n",
    "\n",
    "fig, ax = plt.subplots(figsize=(15, 20)) # set size\n",
    "ax = dendrogram(linkage_matrix, orientation=\"right\", labels=titles);\n",
    "\n",
    "plt.tick_params(\\\n",
    "    axis= 'x',          # changes apply to the x-axis\n",
    "    which='both',      # both major and minor ticks are affected\n",
    "    bottom='off',      # ticks along the bottom edge are off\n",
    "    top='off',         # ticks along the top edge are off\n",
    "    labelbottom='off')\n",
    "\n",
    "plt.tight_layout() #show plot with tight layout\n",
    "\n",
    "#uncomment below to save figure\n",
    "plt.savefig('Restaurant_clusters.png', dpi=300) #save figure as Restaurant_clusters"
   ]
  },
  {
   "cell_type": "markdown",
   "metadata": {},
   "source": [
    "<img src='Restaurant_clusters.png'>"
   ]
  },
  {
   "cell_type": "markdown",
   "metadata": {
    "collapsed": true
   },
   "source": [
    "<b>Do restaurants offering the same cuisine cluster together?</B>\n",
    "\n",
    "Most of the restaurant offering same cuisine cluster together. But we can see one of the restaurant offering Greek cuisine, cluster with the restaurants with American cuisines and one of the American get cluster with Italian.\n",
    "\n",
    "Also, cluster of Greek cuisines shows similarities with American_Italian cluster.\n",
    "\n"
   ]
  }
 ],
 "metadata": {
  "kernelspec": {
   "display_name": "Python 3",
   "language": "python",
   "name": "python3"
  },
  "language_info": {
   "codemirror_mode": {
    "name": "ipython",
    "version": 3
   },
   "file_extension": ".py",
   "mimetype": "text/x-python",
   "name": "python",
   "nbconvert_exporter": "python",
   "pygments_lexer": "ipython3",
   "version": "3.6.3"
  }
 },
 "nbformat": 4,
 "nbformat_minor": 2
}
